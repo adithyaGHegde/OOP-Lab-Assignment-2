{
  "nbformat": 4,
  "nbformat_minor": 0,
  "metadata": {
    "colab": {
      "name": "AdithyaHegde_20BCS006_OOPTask2.ipynb",
      "provenance": [],
      "collapsed_sections": [],
      "authorship_tag": "ABX9TyO0us90zUaG9kTcEt5H5vIn",
      "include_colab_link": true
    },
    "kernelspec": {
      "name": "python3",
      "display_name": "Python 3"
    },
    "language_info": {
      "name": "python"
    }
  },
  "cells": [
    {
      "cell_type": "markdown",
      "metadata": {
        "id": "view-in-github",
        "colab_type": "text"
      },
      "source": [
        "<a href=\"https://colab.research.google.com/github/adithyaGHegde/OOPLabAssignment2/blob/main/AdithyaHegde_20BCS006_OOPTask2.ipynb\" target=\"_parent\"><img src=\"https://colab.research.google.com/assets/colab-badge.svg\" alt=\"Open In Colab\"/></a>"
      ]
    },
    {
      "cell_type": "markdown",
      "metadata": {
        "id": "-pgev2qQiV4M"
      },
      "source": [
        "### Lab session 2: dated 09-09-2021\n",
        "\n",
        "1.  Create a python class circle, constructed by a radius and two methods that will\n",
        "compute the area and the perimeter of a circle."
      ]
    },
    {
      "cell_type": "code",
      "metadata": {
        "colab": {
          "base_uri": "https://localhost:8080/"
        },
        "id": "X9X08SSTicys",
        "outputId": "c34423b3-98f6-4402-e4e3-42f8e9d39e8e"
      },
      "source": [
        "class Circle:  \n",
        "  def __init__(self,r):\n",
        "    self.radius = r\n",
        "\n",
        "  def area(self):\n",
        "    return 3.14 * (self.radius**2)\n",
        "\n",
        "  def perimeter(self):\n",
        "    return 2*3.14*self.radius\n",
        "\n",
        "radius=int(input(\"Enter circle radius: \"))\n",
        "NewCircle = Circle(radius)\n",
        "print(\"Perimeter is \",NewCircle.perimeter())\n",
        "print(\"Area is \",NewCircle.area())\n"
      ],
      "execution_count": null,
      "outputs": [
        {
          "output_type": "stream",
          "name": "stdout",
          "text": [
            "Enter circle radius: 8\n",
            "Perimeter is  50.24\n",
            "Area is  200.96\n"
          ]
        }
      ]
    },
    {
      "cell_type": "markdown",
      "metadata": {
        "id": "Rc_uoQA8wai4"
      },
      "source": [
        "2. Write a python program to enter the data of a 5 teaching faculty and display it. (Data\n",
        "of a Faculty: Name, Emp ID, Branch, Salary)."
      ]
    },
    {
      "cell_type": "code",
      "metadata": {
        "colab": {
          "base_uri": "https://localhost:8080/"
        },
        "id": "g6u80qxVwd13",
        "outputId": "51449185-3cea-4515-c3a5-16331bb3b1c1"
      },
      "source": [
        "class FacultyData:\n",
        "\n",
        "  def enterData(self):\n",
        "    self.facultyName = input(\"\\nEnter faculty name: \")\n",
        "    self.facultyEmpID = input(\"Enter faculty Emp ID: \")    \n",
        "    self.facultyBranch = input(\"Enter faculty branch: \")    \n",
        "    self.facultySalary = int(input(\"Enter faculty salary: \"))\n",
        "\n",
        "  def printData(self):\n",
        "    print(\"\\nName: \" + self.facultyName)\n",
        "    print(\"Emp ID: \" + self.facultyEmpID)\n",
        "    print(\"Branch: \" + self.facultyBranch)\n",
        "    print(\"Salary: \" , self.facultySalary)\n",
        "\n",
        "Faculty1 = FacultyData()\n",
        "Faculty1.enterData()\n",
        "Faculty2 = FacultyData()\n",
        "Faculty2.enterData()\n",
        "Faculty3 = FacultyData()\n",
        "\n",
        "Faculty3.enterData()\n",
        "Faculty4 = FacultyData()\n",
        "Faculty4.enterData()\n",
        "Faculty5 = FacultyData()\n",
        "Faculty5.enterData()\n",
        "\n",
        "\n",
        "Faculty1.printData()\n",
        "Faculty2.printData()\n",
        "Faculty3.printData()\n",
        "Faculty4.printData()\n",
        "Faculty5.printData()\n",
        "    \n"
      ],
      "execution_count": 18,
      "outputs": [
        {
          "output_type": "stream",
          "name": "stdout",
          "text": [
            "\n",
            "Enter faculty name: A\n",
            "Enter faculty Emp ID: 1\n",
            "Enter faculty branch: CS\n",
            "Enter faculty salary: 20000\n",
            "\n",
            "Enter faculty name: B\n",
            "Enter faculty Emp ID: 2\n",
            "Enter faculty branch: CS\n",
            "Enter faculty salary: 25000\n",
            "\n",
            "Enter faculty name: C\n",
            "Enter faculty Emp ID: 3\n",
            "Enter faculty branch: ECE\n",
            "Enter faculty salary: 4000\n",
            "\n",
            "Enter faculty name: D\n",
            "Enter faculty Emp ID: 4A\n",
            "Enter faculty branch: ECE\n",
            "Enter faculty salary: 40000\n",
            "\n",
            "Enter faculty name: E\n",
            "Enter faculty Emp ID: 4B1\n",
            "Enter faculty branch: CS\n",
            "Enter faculty salary: 30000\n",
            "\n",
            "Name: A\n",
            "Emp ID: 1\n",
            "Branch: CS\n",
            "Salary:  20000\n",
            "\n",
            "Name: B\n",
            "Emp ID: 2\n",
            "Branch: CS\n",
            "Salary:  25000\n",
            "\n",
            "Name: C\n",
            "Emp ID: 3\n",
            "Branch: ECE\n",
            "Salary:  4000\n",
            "\n",
            "Name: D\n",
            "Emp ID: 4A\n",
            "Branch: ECE\n",
            "Salary:  40000\n",
            "\n",
            "Name: E\n",
            "Emp ID: 4B1\n",
            "Branch: CS\n",
            "Salary:  30000\n"
          ]
        }
      ]
    },
    {
      "cell_type": "markdown",
      "metadata": {
        "id": "LHIwBFQa9LP_"
      },
      "source": [
        "3. Write a python program to demonstrate the working of the banking system.\n",
        "\n",
        "  a. Create account class with data members (Account No, Account holder name,\n",
        "Amount)\n",
        "\n",
        "  b. Create constructor to initialize data members.\n",
        "\n",
        "  c. Create member functions (Deposit, withdraw, check balance, and display account\n",
        "details)"
      ]
    },
    {
      "cell_type": "code",
      "metadata": {
        "colab": {
          "base_uri": "https://localhost:8080/"
        },
        "id": "0S5ycve99aKf",
        "outputId": "a98af021-85a0-4f55-c3f7-5da654d280a7"
      },
      "source": [
        "class Account:\n",
        "  def __init__(self,accNo,accHolder,amount):\n",
        "    self.accountNo = accNo\n",
        "    self.accountHolder = accHolder\n",
        "    self.amountAvailable = amount\n",
        "\n",
        "  def depositMoney(self):\n",
        "    self.deposit = int(input(\"Enter money to be deposited: \"))\n",
        "    self.amountAvailable = self.amountAvailable + self.deposit\n",
        "    print(self.deposit,\" successfully deposited \")\n",
        "\n",
        "  def withdrawMoney(self):\n",
        "    self.withdrawal = int(input(\"Enter money to be withdrawn: \"))\n",
        "    self.amountAvailable = self.amountAvailable - self.withdrawal\n",
        "    print(\"Amount successfully withdrawn\")\n",
        "\n",
        "  def checkBalance(self):\n",
        "    print(\"Balance: \",self.amountAvailable)\n",
        "\n",
        "  def displayAccountDetails(self):\n",
        "    print(\"Account Number: {}\\nAccount Holder Name: {}\\nAmount in bank: {}\".format(self.accountNo,self.accountHolder,self.amountAvailable))\n",
        "\n",
        "User1 = Account(2210987,\"Aditya Hegde\",5000000)\n",
        "\n",
        "while True:\n",
        "  choice = input(\"\"\"Choose action: \n",
        "                        1. Deposit\n",
        "                        2. Withdraw\n",
        "                        3. Check balance  \n",
        "                        4. Display account details \n",
        "                        Press any other key to exit             \"\"\")\n",
        "  if choice == '1':\n",
        "    User1.depositMoney()\n",
        "  elif choice == '2':\n",
        "    User1.withdrawMoney()\n",
        "  elif choice == '3':\n",
        "    User1.checkBalance()\n",
        "  elif choice == '4':\n",
        "    User1.displayAccountDetails()\n",
        "  else:\n",
        "    break\n",
        "\n"
      ],
      "execution_count": 16,
      "outputs": [
        {
          "name": "stdout",
          "output_type": "stream",
          "text": [
            "Choose action: \n",
            "                        1. Deposit\n",
            "                        2. Withdraw\n",
            "                        3. Check balance  \n",
            "                        4. Display account details \n",
            "                        Press any other key to exit             6\n"
          ]
        }
      ]
    },
    {
      "cell_type": "markdown",
      "metadata": {
        "id": "sjqBo_wlC3An"
      },
      "source": [
        "4. Write a python program to store and display the student name, USN, and marks of a\n",
        "student. Use the list to store the marks of a student in three subjects."
      ]
    },
    {
      "cell_type": "code",
      "metadata": {
        "colab": {
          "base_uri": "https://localhost:8080/"
        },
        "id": "VU9BrrnGC7I_",
        "outputId": "204949bd-b72e-4619-c439-0c42b117cd0b"
      },
      "source": [
        "class Student:\n",
        "\n",
        "  def enterData(self):\n",
        "    self.studentName = input(\"Enter student name: \")\n",
        "    self.usn = int(input(\"Enter student USN: \"))\n",
        "    self.studentMarks = []\n",
        "    for i in range(0,3):\n",
        "      print(\"Enter subject \",i+1,\" marks: \")\n",
        "      marks = int(input())\n",
        "      self.studentMarks.append(marks)\n",
        "\n",
        "  def displayData(self):\n",
        "    print(\"Student Name: \"+self.studentName)\n",
        "    print(\"Studet USN: \",self.usn)\n",
        "    print(\"Student Marks: \",self.studentMarks)\n",
        "\n",
        "Student1 = Student()\n",
        "\n",
        "Student1.enterData()\n",
        "Student1.displayData()"
      ],
      "execution_count": 11,
      "outputs": [
        {
          "output_type": "stream",
          "name": "stdout",
          "text": [
            "Enter student name: Adithya Hegde\n",
            "Enter student USN: 2079844006\n",
            "Enter subject  1  marks: \n",
            "12\n",
            "Enter subject  2  marks: \n",
            "15\n",
            "Enter subject  3  marks: \n",
            "13\n",
            "Student Name: Adithya Hegde\n",
            "Studet USN:  2079844006\n",
            "Student Marks:  [12, 15, 13]\n"
          ]
        }
      ]
    },
    {
      "cell_type": "markdown",
      "metadata": {
        "id": "541lexUay-lL"
      },
      "source": [
        "5. A hospital wants to create a database regarding covid-19 patients. The information to\n",
        "store include:\n",
        "\n",
        "  a) Name of the patient\n",
        "\n",
        "  b) Date of admission.\n",
        "\n",
        "  c) List of symptoms.\n",
        "\n",
        "  d) Oxygen level.\n",
        "\n",
        "  d) Date of discharge.\n",
        "\n",
        "Note: If the oxygen level is less than 90, then the patient is put on oxygen support else\n",
        "moved to the general ward for observation.\n",
        "\n",
        "Create a class to store the above information. The member function should include a\n",
        "function to enter patient’s information, check the severity, display the number of\n",
        "patients required oxygen support, number of patients in the general ward for\n",
        "observation, and the total number of patients admitted."
      ]
    },
    {
      "cell_type": "code",
      "metadata": {
        "colab": {
          "base_uri": "https://localhost:8080/"
        },
        "id": "QbKF4GgLzMiC",
        "outputId": "6045ed16-6469-4d20-8cc2-025b9f029562"
      },
      "source": [
        "class Covid:\n",
        "\n",
        "  def __init__(self):\n",
        "    self.oxygenLevel = 0\n",
        "\n",
        "  def enterData(self):\n",
        "\t  global oxygenSupportPatients\n",
        "\t  global generalWardPatients\n",
        "\t  global totalPatients\n",
        "\n",
        "\t  self.nameOfpatient = input(\"Enter name of patient: \")\n",
        "\t  self.dateOfAdmission = input(\"Enter date of admission in the DD-MM-YY form: \")\n",
        "\t  self.oxygenLevel = int(input(\"Enter oxygen level: \"))\n",
        "\t\n",
        "\t  if self.oxygenLevel < 90:\n",
        "\t    oxygenSupportPatients += 1\n",
        "\t  else:\n",
        "\t    generalWardPatients += 1\n",
        "\t\n",
        "\t  self.listOfSymptoms = []  \n",
        "\t  while True:\n",
        "\t    symptom = input(\"Enter symptom: \")\n",
        "\t    if symptom == \"\":\n",
        "\t\t    break\n",
        "\t    self.listOfSymptoms.append(symptom)\n",
        "\n",
        "\t  self.dateOfDischarge = input(\"Enter discharge date in the DD-MM-YY form:\")\n",
        "\n",
        "\t  totalPatients += 1\n",
        "\n",
        "  def checkSeverity(self):\n",
        "\t  if self.oxygenLevel < 90:\n",
        "\t    print(\"In need of oxygen support\")\n",
        "\t  else:\n",
        "\t    print(\"In general ward for observation\")\n",
        "\n",
        "  def totalPatientsNumber(self):\n",
        "\t  global totalPatients\n",
        "\t  print(\"Total number of patients admitted: \",totalPatients)\n",
        "\n",
        "  def oxygenNumber(self):\n",
        "\t  global oxygenSupportPatients\n",
        "\t  print(\"Number of patients required oxygen support: \",oxygenSupportPatients)\n",
        "  \n",
        "  def generalNumber(self):\n",
        "\t  global generalWardPatients\n",
        "\t  print(\"Number of patients in the general ward for observation: \",generalWardPatients)\n",
        "\n",
        "oxygenSupportPatients = generalWardPatients = totalPatients = 0\n",
        "\n",
        "CovidPatientList = list()\n",
        "\n",
        "while True:\n",
        "  choice = input(\"\"\"Choose action: \n",
        "\t\t\t\t\t\t1. Enter patient info\n",
        "\t\t\t\t\t\t2. Check Severity\n",
        "\t\t\t\t\t\t3. Number of patients requiring oxygen support\t\n",
        "\t\t\t\t\t\t4. Number of patients in the general ward\n",
        "\t\t\t\t\t\t5. Total number of patients admitted \n",
        "\t\t\t\t\t\tPress any other key to exit\t\t\t\t\"\"\")\n",
        "  C = Covid()\n",
        "\n",
        "  if choice == '1':\n",
        "\t  C.enterData()\n",
        "\t  CovidPatientList.append(C)\n",
        "  elif choice == '2':\n",
        "\t  C.checkSeverity()\n",
        "  elif choice == '3':\n",
        "\t  C.oxygenNumber()\n",
        "  elif choice == '4':\n",
        "\t  C.generalNumber()\n",
        "  elif choice == '5':\n",
        "\t  C.totalPatientsNumber()\n",
        "  else:\n",
        "\t  break"
      ],
      "execution_count": 74,
      "outputs": [
        {
          "name": "stdout",
          "output_type": "stream",
          "text": [
            "Choose action: \n",
            "\t\t\t\t\t\t1. Enter patient info\n",
            "\t\t\t\t\t\t2. Check Severity\n",
            "\t\t\t\t\t\t3. Number of patients requiring oxygen support\t\n",
            "\t\t\t\t\t\t4. Number of patients in the general ward\n",
            "\t\t\t\t\t\t5. Total number of patients admitted \n",
            "\t\t\t\t\t\tPress any other key to exit\t\t\t\t9\n"
          ]
        }
      ]
    },
    {
      "cell_type": "markdown",
      "metadata": {
        "id": "4FBU_SYSpaGm"
      },
      "source": [
        "6. Create a Class time that has separate int member data for hours, minutes, and\n",
        "seconds. One\n",
        "constructor should initialize this data to 0 and another should initialize it to fixed\n",
        "values. Another member function should display it in hh:mm: ss format.\n"
      ]
    },
    {
      "cell_type": "code",
      "metadata": {
        "colab": {
          "base_uri": "https://localhost:8080/"
        },
        "id": "htGTzT0WwAjD",
        "outputId": "ba55a01f-c414-4a6e-b7f6-6e726edee81c"
      },
      "source": [
        "class Time:\n",
        "  def __init__(self,h,m,s):\n",
        "    self.hours = int(h)\n",
        "    self.minutes = int(m)\n",
        "    self.seconds = int(s)\n",
        "\n",
        "  def zeroInitialise(self):\n",
        "    self.hours = 0\n",
        "    self.minutes = 0\n",
        "    self.seconds = 0\n",
        "\n",
        "  def display(self):\n",
        "    print(self.hours,\":\",self.minutes,\":\",self.seconds)\n",
        "\n",
        "print(\"Time is 12:24 and 30 seconds\")\n",
        "T = Time(12,24,30)\n",
        "T.display()\n",
        "T.zeroInitialise()\n",
        "T.display()"
      ],
      "execution_count": 78,
      "outputs": [
        {
          "output_type": "stream",
          "name": "stdout",
          "text": [
            "Time is 12:24 and 30 seconds\n",
            "12 : 24 : 30\n",
            "0 : 0 : 0\n"
          ]
        }
      ]
    },
    {
      "cell_type": "markdown",
      "metadata": {
        "id": "UdyX7uva0hkK"
      },
      "source": [
        "7. Create a class to store the details of two students: std1(Name= Rahul, Age =21, roll\n",
        "no=33),\n",
        "Std2( Name = Rohit, Age=22, Roll no = 74)\n",
        "Write a function to compare the age of both the students, print whether they are equal\n",
        "or not equal."
      ]
    },
    {
      "cell_type": "code",
      "metadata": {
        "colab": {
          "base_uri": "https://localhost:8080/"
        },
        "id": "zORuk9Ie0lng",
        "outputId": "5e79bb5d-795a-4630-fe98-6d38b47718cc"
      },
      "source": [
        "class students:\n",
        "  def __init__(self,n,a,rn):\n",
        "    self.name = n\n",
        "    self.age = int(a)\n",
        "    self.rollNo = int(rn)\n",
        "    \n",
        "  def compareAge(self,other):\n",
        "    if (self.age == other.age):\n",
        "      print(\"Their ages are equal\")\n",
        "    else:\n",
        "      print(\"Their ages are not equal\")\n",
        "\n",
        "std1 = students(\"Rahul\",21,33)\n",
        "std2 = students(\"Rohit\",22,74)\n",
        "\n",
        "std1.compareAge(std2)"
      ],
      "execution_count": 79,
      "outputs": [
        {
          "output_type": "stream",
          "name": "stdout",
          "text": [
            "Their ages are not equal\n"
          ]
        }
      ]
    },
    {
      "cell_type": "markdown",
      "metadata": {
        "id": "aAdRgRJ24Hu4"
      },
      "source": [
        "8. Create an instance of a class to store student details such as Sem, Institute, Name, and\n",
        "usn where:\n",
        "\n",
        "  a) Sem and Institute details should be class variables.\n",
        "\n",
        "  b) Name and usn should be instance variables.\n",
        "\n",
        "And also, print the instance variable using the instance method and class variable\n",
        "using the class method, also use a static method to print an explanation about the\n",
        "class."
      ]
    },
    {
      "cell_type": "code",
      "metadata": {
        "colab": {
          "base_uri": "https://localhost:8080/"
        },
        "id": "z_NX_SLd4Sj9",
        "outputId": "58ee25bb-d7dd-4fd4-a86d-a0fd92e387a4"
      },
      "source": [
        "class StudentDetails:\n",
        "  sem = \"II semester\"\n",
        "  institute = \"IIIT Dharwad\"\n",
        "\n",
        "  def __init__(self,nam,usn):\n",
        "    self.name = nam\n",
        "    self.USN = usn\n",
        "\n",
        "  def instancePrint(self):\n",
        "    print(self.name, self.USN)\n",
        "\n",
        "  @classmethod\n",
        "  def classMethodPrint(cls):\n",
        "    print(cls.sem,cls.institute)\n",
        "\n",
        "  @staticmethod\n",
        "  def staticMethodExplanation():\n",
        "    print(\"Example to show types of methods in python\")\n",
        "\n",
        "S = StudentDetails(\"Aditya\",\"20bcs006\")\n",
        "S.instancePrint()\n",
        "\n",
        "StudentDetails.classMethodPrint()\n",
        "\n",
        "StudentDetails.staticMethodExplanation()\n"
      ],
      "execution_count": 84,
      "outputs": [
        {
          "output_type": "stream",
          "name": "stdout",
          "text": [
            "Aditya 20bcs006\n",
            "II semester IIIT Dharwad\n",
            "Example to show types of methods in python\n"
          ]
        }
      ]
    },
    {
      "cell_type": "markdown",
      "metadata": {
        "id": "bQv58KHG85a3"
      },
      "source": [
        "9. Write a python program to create a student class with the variable Name, Roll no, and\n",
        "Sem, also the student is having a laptop create an instance of an inner class laptop\n",
        "with variable cpu, Ram, and hard disk and display details. Also, create multiple\n",
        "objects for the inner class laptop.\n"
      ]
    },
    {
      "cell_type": "code",
      "metadata": {
        "colab": {
          "base_uri": "https://localhost:8080/"
        },
        "id": "g3oSWitg88th",
        "outputId": "8f928249-b1e1-4827-8132-d28fd2842387"
      },
      "source": [
        "class StudentClass:\n",
        "  def __init__(self):\n",
        "    self.name = \"Aditya\"\n",
        "    self.rollNo = \"20bcs006\"\n",
        "    self.sem = \"II semester\"\n",
        "    self.lap = self.Laptop()\n",
        "  def displayDetails(self):\n",
        "    print(self.name,self.rollNo,self.sem)\n",
        "  class Laptop:\n",
        "    def __init__(self):\n",
        "      self.cpu = \"Intel Core i5\"\n",
        "      self.ram = \"8GB Ram\"\n",
        "      self.harddisk = \"1TB Hard disk\"\n",
        "    def displayLaptopDetails(self):\n",
        "      print(self.cpu,self.ram,self.harddisk,sep=',')\n",
        "\n",
        "S = StudentClass()\n",
        "S.displayDetails()\n",
        "\n",
        "L = S.lap\n",
        "L.displayLaptopDetails()\n",
        "L1 = S.lap\n",
        "L1.displayLaptopDetails()"
      ],
      "execution_count": 96,
      "outputs": [
        {
          "output_type": "stream",
          "name": "stdout",
          "text": [
            "Aditya 20bcs006 II semester\n",
            "Intel Core i5,8GB Ram,1TB Hard disk\n",
            "Intel Core i5,8GB Ram,1TB Hard disk\n"
          ]
        }
      ]
    }
  ]
}